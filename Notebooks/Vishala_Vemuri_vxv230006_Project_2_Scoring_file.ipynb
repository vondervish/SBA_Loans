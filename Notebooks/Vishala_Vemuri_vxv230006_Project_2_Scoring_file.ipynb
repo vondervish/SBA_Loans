{
 "cells": [
  {
   "cell_type": "markdown",
   "id": "6ec3dd14-dc67-4084-8474-8187ec98f5ba",
   "metadata": {
    "id": "12b5dff5-4959-4ac0-896e-a9e075dc2f35"
   },
   "source": [
    "This is to score the dataset provided, using the best model in H2O dataframe using Gradient Boosting Estimator. In the train file, we have dumped the best model path which we will be loaded here to be used to score a new data set. We have also created necessary functions that will be used in the scoring function and dumped the same in the artifacts folder. We will import the necessary libraries and create a function Project2_scoring, to score the loaded data and display it as per the requirement. The model contains the threshold for max F1 score, which is used to predict the outcome of the function (0 or 1) based on the threshold value. "
   ]
  },
  {
   "cell_type": "code",
   "execution_count": 1,
   "id": "f455a9f7-d58c-4bfe-9978-e963ac5e6346",
   "metadata": {
    "id": "f455a9f7-d58c-4bfe-9978-e963ac5e6346"
   },
   "outputs": [],
   "source": [
    "import h2o"
   ]
  },
  {
   "cell_type": "code",
   "execution_count": 2,
   "id": "3059559a-e5b3-4be4-8d86-b60ba111bc5e",
   "metadata": {
    "colab": {
     "base_uri": "https://localhost:8080/",
     "height": 584
    },
    "id": "3059559a-e5b3-4be4-8d86-b60ba111bc5e",
    "outputId": "4fec469b-8604-4f66-bcd8-1cc14da6cf8b"
   },
   "outputs": [
    {
     "name": "stdout",
     "output_type": "stream",
     "text": [
      "Checking whether there is an H2O instance running at http://localhost:54321..... not found.\n",
      "Attempting to start a local H2O server...\n",
      "  Java Version: java version \"17.0.11\" 2024-04-16 LTS; Java(TM) SE Runtime Environment (build 17.0.11+7-LTS-207); Java HotSpot(TM) 64-Bit Server VM (build 17.0.11+7-LTS-207, mixed mode, sharing)\n",
      "  Starting server from /Users/vishu/Downloads/ml-summer-2024/lib/python3.10/site-packages/h2o/backend/bin/h2o.jar\n",
      "  Ice root: /var/folders/b4/37mclspn5hb08s778j8dsmpw0000gn/T/tmpuuwq3r8n\n",
      "  JVM stdout: /var/folders/b4/37mclspn5hb08s778j8dsmpw0000gn/T/tmpuuwq3r8n/h2o_vishu_started_from_python.out\n",
      "  JVM stderr: /var/folders/b4/37mclspn5hb08s778j8dsmpw0000gn/T/tmpuuwq3r8n/h2o_vishu_started_from_python.err\n",
      "  Server is running at http://127.0.0.1:54321\n",
      "Connecting to H2O server at http://127.0.0.1:54321 ... successful.\n",
      "Warning: Your H2O cluster version is (7 months and 18 days) old.  There may be a newer version available.\n",
      "Please download and install the latest version from: https://h2o-release.s3.amazonaws.com/h2o/latest_stable.html\n"
     ]
    },
    {
     "data": {
      "text/html": [
       "\n",
       "<style>\n",
       "\n",
       "#h2o-table-1.h2o-container {\n",
       "  overflow-x: auto;\n",
       "}\n",
       "#h2o-table-1 .h2o-table {\n",
       "  /* width: 100%; */\n",
       "  margin-top: 1em;\n",
       "  margin-bottom: 1em;\n",
       "}\n",
       "#h2o-table-1 .h2o-table caption {\n",
       "  white-space: nowrap;\n",
       "  caption-side: top;\n",
       "  text-align: left;\n",
       "  /* margin-left: 1em; */\n",
       "  margin: 0;\n",
       "  font-size: larger;\n",
       "}\n",
       "#h2o-table-1 .h2o-table thead {\n",
       "  white-space: nowrap; \n",
       "  position: sticky;\n",
       "  top: 0;\n",
       "  box-shadow: 0 -1px inset;\n",
       "}\n",
       "#h2o-table-1 .h2o-table tbody {\n",
       "  overflow: auto;\n",
       "}\n",
       "#h2o-table-1 .h2o-table th,\n",
       "#h2o-table-1 .h2o-table td {\n",
       "  text-align: right;\n",
       "  /* border: 1px solid; */\n",
       "}\n",
       "#h2o-table-1 .h2o-table tr:nth-child(even) {\n",
       "  /* background: #F5F5F5 */\n",
       "}\n",
       "\n",
       "</style>      \n",
       "<div id=\"h2o-table-1\" class=\"h2o-container\">\n",
       "  <table class=\"h2o-table\">\n",
       "    <caption></caption>\n",
       "    <thead></thead>\n",
       "    <tbody><tr><td>H2O_cluster_uptime:</td>\n",
       "<td>01 secs</td></tr>\n",
       "<tr><td>H2O_cluster_timezone:</td>\n",
       "<td>America/Chicago</td></tr>\n",
       "<tr><td>H2O_data_parsing_timezone:</td>\n",
       "<td>UTC</td></tr>\n",
       "<tr><td>H2O_cluster_version:</td>\n",
       "<td>3.44.0.3</td></tr>\n",
       "<tr><td>H2O_cluster_version_age:</td>\n",
       "<td>7 months and 18 days</td></tr>\n",
       "<tr><td>H2O_cluster_name:</td>\n",
       "<td>H2O_from_python_vishu_p8auzi</td></tr>\n",
       "<tr><td>H2O_cluster_total_nodes:</td>\n",
       "<td>1</td></tr>\n",
       "<tr><td>H2O_cluster_free_memory:</td>\n",
       "<td>4 Gb</td></tr>\n",
       "<tr><td>H2O_cluster_total_cores:</td>\n",
       "<td>8</td></tr>\n",
       "<tr><td>H2O_cluster_allowed_cores:</td>\n",
       "<td>8</td></tr>\n",
       "<tr><td>H2O_cluster_status:</td>\n",
       "<td>locked, healthy</td></tr>\n",
       "<tr><td>H2O_connection_url:</td>\n",
       "<td>http://127.0.0.1:54321</td></tr>\n",
       "<tr><td>H2O_connection_proxy:</td>\n",
       "<td>{\"http\": null, \"https\": null}</td></tr>\n",
       "<tr><td>H2O_internal_security:</td>\n",
       "<td>False</td></tr>\n",
       "<tr><td>Python_version:</td>\n",
       "<td>3.10.11 final</td></tr></tbody>\n",
       "  </table>\n",
       "</div>\n"
      ],
      "text/plain": [
       "--------------------------  -----------------------------\n",
       "H2O_cluster_uptime:         01 secs\n",
       "H2O_cluster_timezone:       America/Chicago\n",
       "H2O_data_parsing_timezone:  UTC\n",
       "H2O_cluster_version:        3.44.0.3\n",
       "H2O_cluster_version_age:    7 months and 18 days\n",
       "H2O_cluster_name:           H2O_from_python_vishu_p8auzi\n",
       "H2O_cluster_total_nodes:    1\n",
       "H2O_cluster_free_memory:    4 Gb\n",
       "H2O_cluster_total_cores:    8\n",
       "H2O_cluster_allowed_cores:  8\n",
       "H2O_cluster_status:         locked, healthy\n",
       "H2O_connection_url:         http://127.0.0.1:54321\n",
       "H2O_connection_proxy:       {\"http\": null, \"https\": null}\n",
       "H2O_internal_security:      False\n",
       "Python_version:             3.10.11 final\n",
       "--------------------------  -----------------------------"
      ]
     },
     "metadata": {},
     "output_type": "display_data"
    }
   ],
   "source": [
    "h2o.init(max_mem_size = \"4G\")\n",
    "h2o.remove_all()"
   ]
  },
  {
   "cell_type": "code",
   "execution_count": 3,
   "id": "193414db-adf7-47b8-baeb-c8b3546a3b0b",
   "metadata": {
    "colab": {
     "base_uri": "https://localhost:8080/",
     "height": 17
    },
    "id": "193414db-adf7-47b8-baeb-c8b3546a3b0b",
    "outputId": "8ef07cf8-635b-4a07-9145-af92bf851ccc"
   },
   "outputs": [
    {
     "data": {
      "text/html": [
       "<style>.container { width:80% !important; }</style>"
      ],
      "text/plain": [
       "<IPython.core.display.HTML object>"
      ]
     },
     "metadata": {},
     "output_type": "display_data"
    }
   ],
   "source": [
    "import pandas as pd\n",
    "import numpy as np\n",
    "pd.set_option('display.max_columns', 1500)\n",
    "import warnings\n",
    "warnings.filterwarnings('ignore')\n",
    "#Extend cell width\n",
    "from IPython.core.display import display, HTML\n",
    "display(HTML(\"<style>.container { width:80% !important; }</style>\"))"
   ]
  },
  {
   "cell_type": "code",
   "execution_count": 4,
   "id": "78a9f975-f7ff-405b-84df-22f734164e3a",
   "metadata": {
    "id": "78a9f975-f7ff-405b-84df-22f734164e3a"
   },
   "outputs": [],
   "source": [
    "# Read the data in pandas dataframe as X_score.\n",
    "X_score = pd.read_csv('SBA_loans_project_2_holdout_students_valid.csv')"
   ]
  },
  {
   "cell_type": "code",
   "execution_count": 5,
   "id": "15dd50be-0191-4fd2-b29c-c933c16208e4",
   "metadata": {
    "id": "15dd50be-0191-4fd2-b29c-c933c16208e4"
   },
   "outputs": [],
   "source": [
    "# Import the necessary libraries used in the scoring function.\n",
    "\n",
    "import pickle\n",
    "import os\n",
    "from sklearn.preprocessing import PolynomialFeatures\n",
    "from h2o.estimators import H2OGradientBoostingEstimator"
   ]
  },
  {
   "cell_type": "code",
   "execution_count": 6,
   "id": "e8cdef6d-028f-45bc-b8fc-70111d315150",
   "metadata": {
    "id": "e8cdef6d-028f-45bc-b8fc-70111d315150"
   },
   "outputs": [],
   "source": [
    "def Project2_scoring(X_data):\n",
    "\n",
    "    # Load the model path\n",
    "    artifacts_dir = \"../artifacts\"\n",
    "    with open(os.path.join(artifacts_dir, \"artifacts_model_path.pkl\"), \"rb\") as artifacts_model_path_file:\n",
    "        artifacts_dict = pickle.load(artifacts_model_path_file)\n",
    "\n",
    "    # Load the GBM model\n",
    "    loaded_gbm_model = h2o.load_model(\"../artifacts/GBM_model_1722923354827_4554\")\n",
    "\n",
    "    # Load the function definitions\n",
    "    with open(os.path.join(artifacts_dir, \"artifacts_functions.pkl\"), \"rb\") as artifacts_functions_file:\n",
    "        functions_dict = pickle.load(artifacts_functions_file)\n",
    "\n",
    "    # Execute the function definitions\n",
    "    exec(functions_dict[\"data_cleaning\"], globals())\n",
    "    exec(functions_dict[\"new_features_1\"], globals())\n",
    "    exec(functions_dict[\"add_interaction_terms\"], globals())\n",
    "    exec(functions_dict[\"changing_datatype\"], globals())\n",
    "\n",
    "    X_data = data_cleaning(X_data)                     #Cleaning the scoring data using data_cleaning function\n",
    "\n",
    "    X_data = new_features_1(X_data)\n",
    "    # Use the dictionary directly as the mapping\n",
    "    Bank_SBAappv_mapping = functions_dict[\"Bank_SBAappv_mapping\"]\n",
    "    X_data['Avg_SBAappv_bank'] = X_data['Bank'].map(Bank_SBAappv_mapping).fillna(0)\n",
    "\n",
    "    # Do the same for other mappings if they are also dictionaries\n",
    "    sector_GrAppv_mapping = functions_dict[\"sector_GrAppv_mapping\"]\n",
    "    X_data['Avg_GrAppv_sector'] = X_data['sector'].map(sector_GrAppv_mapping).fillna(0)\n",
    "\n",
    "    State_GrAppv_mapping = functions_dict[\"State_GrAppv_mapping\"]\n",
    "    X_data['Avg_GrAppv_State'] = X_data['State'].map(State_GrAppv_mapping).fillna(0)\n",
    "\n",
    "    Disb_Bank_mapping = functions_dict[\"Disb_Bank_mapping\"]\n",
    "    X_data['Avg_Disb_Bank'] = X_data['Bank'].map(Disb_Bank_mapping).fillna(0)\n",
    "\n",
    "    feature_cols = ['UrbanRural','FranchiseCode']      # Adding new features using new_features function\n",
    "    X_data = add_interaction_terms(X_data, feature_cols, 2)\n",
    "    feature_cols = ['disb_greater_app','FranchiseCode']\n",
    "    X_data = add_interaction_terms(X_data, feature_cols, 2)\n",
    "\n",
    "     # Convert X_data to H2OFrame\n",
    "    X_data_h2o = h2o.H2OFrame(X_data)                  # Converting the data to H2o dataframe.\n",
    "\n",
    "    X_data_h2o = changing_datatype(X_data_h2o)         # Changing the datatype of the columns of scoring data using changing_datatype function\n",
    "\n",
    "    # Make predictions using the loaded GBM model\n",
    "    predictions = loaded_gbm_model.predict(X_data_h2o)\n",
    "    X_data_h2o = X_data_h2o.cbind(predictions)\n",
    "\n",
    "    predicted_labels = X_data_h2o[\"predict\"]\n",
    "    probability_0 = X_data_h2o[\"p0\"]   #Probability of Class_0\n",
    "    probability_1 = X_data_h2o[\"p1\"]   #Probability of Class_1\n",
    "\n",
    "    # Add an index column to the test set\n",
    "    data_with_index = X_data_h2o.cbind(h2o.H2OFrame(list(range(X_data_h2o.nrow)), column_names=[\"index\"]))\n",
    "\n",
    "    # Create a new H2OFrame with the desired output\n",
    "    output = data_with_index.cbind([predicted_labels, probability_0, probability_1])\n",
    "    output.columns = X_data_h2o.columns + [\"ID\", \"label\", \"probability_0\", \"probability_1\"]\n",
    "    h2o.export_file(output, path=\"temp.csv\", force=True)\n",
    "    output_df = pd.read_csv(\"temp.csv\")\n",
    "    os.remove(\"temp.csv\")\n",
    "\n",
    "    # Select and reorder the required columns\n",
    "    output_df = output_df[[\"ID\", \"label\", \"probability_0\", \"probability_1\"]]\n",
    "    return output_df"
   ]
  },
  {
   "cell_type": "code",
   "execution_count": 7,
   "id": "d375a090-67ef-4be5-afca-e44a2543770a",
   "metadata": {
    "colab": {
     "base_uri": "https://localhost:8080/",
     "height": 260
    },
    "id": "d375a090-67ef-4be5-afca-e44a2543770a",
    "outputId": "146ca5e7-5441-4836-d5a5-5ac75d3cca6c"
   },
   "outputs": [
    {
     "name": "stdout",
     "output_type": "stream",
     "text": [
      "Parse progress: |████████████████████████████████████████████████████████████████| (done) 100%\n",
      "gbm prediction progress: |███████████████████████████████████████████████████████| (done) 100%\n",
      "Parse progress: |████████████████████████████████████████████████████████████████| (done) 100%\n",
      "Export File progress: |██████████████████████████████████████████████████████████| (done) 100%\n"
     ]
    },
    {
     "data": {
      "text/html": [
       "<div>\n",
       "<style scoped>\n",
       "    .dataframe tbody tr th:only-of-type {\n",
       "        vertical-align: middle;\n",
       "    }\n",
       "\n",
       "    .dataframe tbody tr th {\n",
       "        vertical-align: top;\n",
       "    }\n",
       "\n",
       "    .dataframe thead th {\n",
       "        text-align: right;\n",
       "    }\n",
       "</style>\n",
       "<table border=\"1\" class=\"dataframe\">\n",
       "  <thead>\n",
       "    <tr style=\"text-align: right;\">\n",
       "      <th></th>\n",
       "      <th>ID</th>\n",
       "      <th>label</th>\n",
       "      <th>probability_0</th>\n",
       "      <th>probability_1</th>\n",
       "    </tr>\n",
       "  </thead>\n",
       "  <tbody>\n",
       "    <tr>\n",
       "      <th>0</th>\n",
       "      <td>0</td>\n",
       "      <td>0</td>\n",
       "      <td>0.957700</td>\n",
       "      <td>0.042300</td>\n",
       "    </tr>\n",
       "    <tr>\n",
       "      <th>1</th>\n",
       "      <td>1</td>\n",
       "      <td>0</td>\n",
       "      <td>0.887146</td>\n",
       "      <td>0.112854</td>\n",
       "    </tr>\n",
       "    <tr>\n",
       "      <th>2</th>\n",
       "      <td>2</td>\n",
       "      <td>0</td>\n",
       "      <td>0.881359</td>\n",
       "      <td>0.118641</td>\n",
       "    </tr>\n",
       "    <tr>\n",
       "      <th>3</th>\n",
       "      <td>3</td>\n",
       "      <td>0</td>\n",
       "      <td>0.982325</td>\n",
       "      <td>0.017675</td>\n",
       "    </tr>\n",
       "    <tr>\n",
       "      <th>4</th>\n",
       "      <td>4</td>\n",
       "      <td>0</td>\n",
       "      <td>0.877177</td>\n",
       "      <td>0.122823</td>\n",
       "    </tr>\n",
       "  </tbody>\n",
       "</table>\n",
       "</div>"
      ],
      "text/plain": [
       "   ID  label  probability_0  probability_1\n",
       "0   0      0       0.957700       0.042300\n",
       "1   1      0       0.887146       0.112854\n",
       "2   2      0       0.881359       0.118641\n",
       "3   3      0       0.982325       0.017675\n",
       "4   4      0       0.877177       0.122823"
      ]
     },
     "execution_count": 7,
     "metadata": {},
     "output_type": "execute_result"
    }
   ],
   "source": [
    "# We use the function Project2_scoring on X_score and display the first 5 rows.\n",
    "Project2_scoring(X_score).head()"
   ]
  },
  {
   "cell_type": "code",
   "execution_count": 8,
   "id": "619171c4-46c4-4f8d-a293-d8391551047e",
   "metadata": {
    "colab": {
     "base_uri": "https://localhost:8080/"
    },
    "id": "619171c4-46c4-4f8d-a293-d8391551047e",
    "outputId": "0e291a6d-5073-49b0-a0f6-3ac3bc696a4c"
   },
   "outputs": [
    {
     "name": "stdout",
     "output_type": "stream",
     "text": [
      "H2O session _sid_bac0 closed.\n"
     ]
    }
   ],
   "source": [
    "h2o.cluster().shutdown()"
   ]
  }
 ],
 "metadata": {
  "accelerator": "TPU",
  "colab": {
   "gpuType": "V28",
   "machine_shape": "hm",
   "provenance": []
  },
  "kernelspec": {
   "display_name": "Python 3 (ipykernel)",
   "language": "python",
   "name": "python3"
  },
  "language_info": {
   "codemirror_mode": {
    "name": "ipython",
    "version": 3
   },
   "file_extension": ".py",
   "mimetype": "text/x-python",
   "name": "python",
   "nbconvert_exporter": "python",
   "pygments_lexer": "ipython3",
   "version": "3.10.11"
  }
 },
 "nbformat": 4,
 "nbformat_minor": 5
}
